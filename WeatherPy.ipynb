{
 "cells": [
  {
   "cell_type": "code",
   "execution_count": 1,
   "id": "8e83b090",
   "metadata": {},
   "outputs": [],
   "source": [
    "# Import the dependencies.\n",
    "import pandas as pd\n",
    "import matplotlib.pyplot as plt\n",
    "import numpy as np"
   ]
  },
  {
   "cell_type": "code",
   "execution_count": 2,
   "id": "ca93dd1c",
   "metadata": {},
   "outputs": [
    {
     "data": {
      "text/plain": [
       "<zip at 0x25a59111a88>"
      ]
     },
     "execution_count": 2,
     "metadata": {},
     "output_type": "execute_result"
    }
   ],
   "source": [
    "# Create a set of random latitude and longitude combinations.\n",
    "lats = np.random.uniform(low=-90.000, high=90.000, size=1500)\n",
    "lngs = np.random.uniform(low=-180.000, high=180.000, size=1500)\n",
    "lat_lngs = zip(lats, lngs)\n",
    "lat_lngs"
   ]
  },
  {
   "cell_type": "code",
   "execution_count": 3,
   "id": "3d0c329a",
   "metadata": {},
   "outputs": [],
   "source": [
    "# Add the latitudes and longitudes to a list.\n",
    "coordinates = list(lat_lngs)"
   ]
  },
  {
   "cell_type": "code",
   "execution_count": 4,
   "id": "fd4e42a3",
   "metadata": {},
   "outputs": [],
   "source": [
    "from citipy import citipy"
   ]
  },
  {
   "cell_type": "code",
   "execution_count": 5,
   "id": "0202a2d5",
   "metadata": {},
   "outputs": [
    {
     "data": {
      "text/plain": [
       "619"
      ]
     },
     "execution_count": 5,
     "metadata": {},
     "output_type": "execute_result"
    }
   ],
   "source": [
    "# Create a list for holding the cities.\n",
    "cities = []\n",
    "# Identify the nearest city for each latitude and longitude combination.\n",
    "for coordinate in coordinates:\n",
    "    city = citipy.nearest_city(coordinate[0], coordinate[1]).city_name\n",
    "\n",
    "    # If the city is unique, then we will add it to the cities list.\n",
    "    if city not in cities:\n",
    "        cities.append(city)\n",
    "# Print the city count to confirm sufficient count.\n",
    "len(cities)"
   ]
  },
  {
   "cell_type": "code",
   "execution_count": 6,
   "id": "d1674ccf",
   "metadata": {},
   "outputs": [],
   "source": [
    "# Import the requests library.\n",
    "import requests\n",
    "\n",
    "# Import the API key.\n",
    "from config import weather_api_key"
   ]
  },
  {
   "cell_type": "code",
   "execution_count": 7,
   "id": "f733ab04",
   "metadata": {},
   "outputs": [
    {
     "name": "stdout",
     "output_type": "stream",
     "text": [
      "http://api.openweathermap.org/data/2.5/weather?units=Imperial&APPID=03069a1e2eb77d2fcc3c03de41c7f9af\n"
     ]
    }
   ],
   "source": [
    "# Starting URL for Weather Map API Call.\n",
    "url = \"http://api.openweathermap.org/data/2.5/weather?units=Imperial&APPID=\" + weather_api_key\n",
    "print(url)"
   ]
  },
  {
   "cell_type": "code",
   "execution_count": 8,
   "id": "b6e0b8cb",
   "metadata": {},
   "outputs": [],
   "source": [
    "# Import the time library and the datetime module from the datetime library \n",
    "import time\n",
    "from datetime import datetime"
   ]
  },
  {
   "cell_type": "code",
   "execution_count": 9,
   "id": "8c443d2b",
   "metadata": {},
   "outputs": [
    {
     "name": "stdout",
     "output_type": "stream",
     "text": [
      "Beginning Data Retrieval     \n",
      "-----------------------------\n"
     ]
    }
   ],
   "source": [
    "# Create an empty list to hold the weather data.\n",
    "city_data = []\n",
    "# Print the beginning of the logging.\n",
    "print(\"Beginning Data Retrieval     \")\n",
    "print(\"-----------------------------\")\n",
    "\n",
    "# Create counters.\n",
    "record_count = 1\n",
    "set_count = 1"
   ]
  },
  {
   "cell_type": "code",
   "execution_count": 10,
   "id": "40753754",
   "metadata": {},
   "outputs": [],
   "source": [
    "# Loop through all the cities in our list.\n",
    "for i in range(len(cities)):\n",
    "\n",
    "    # Group cities in sets of 50 for logging purposes.\n",
    "    if (i % 50 == 0 and i >= 50):\n",
    "        set_count += 1\n",
    "        record_count = 1\n",
    "        time.sleep(60)\n",
    "\n",
    "    # Create endpoint URL with each city.\n",
    "    city_url = url + \"&q=\" + cities[i]"
   ]
  },
  {
   "cell_type": "code",
   "execution_count": null,
   "id": "ef4c7792",
   "metadata": {},
   "outputs": [
    {
     "name": "stdout",
     "output_type": "stream",
     "text": [
      "Processing Record 1 of Set 13 | belushya guba\n",
      "City not found. Skipping...\n",
      "Processing Record 2 of Set 13 | hobart\n",
      "Processing Record 3 of Set 13 | rikitea\n",
      "Processing Record 4 of Set 13 | kodiak\n",
      "Processing Record 5 of Set 13 | ushuaia\n",
      "Processing Record 6 of Set 13 | naze\n",
      "Processing Record 7 of Set 13 | bouna\n",
      "Processing Record 8 of Set 13 | busselton\n",
      "Processing Record 9 of Set 13 | krasnoarmeysk\n",
      "Processing Record 10 of Set 13 | jiuquan\n",
      "Processing Record 11 of Set 13 | punta arenas\n",
      "Processing Record 12 of Set 13 | faya\n",
      "Processing Record 13 of Set 13 | albany\n",
      "Processing Record 14 of Set 13 | lagoa\n",
      "Processing Record 15 of Set 13 | penzance\n",
      "Processing Record 16 of Set 13 | high prairie\n",
      "Processing Record 17 of Set 13 | bereda\n",
      "Processing Record 18 of Set 13 | tuktoyaktuk\n",
      "Processing Record 19 of Set 13 | coolum beach\n",
      "Processing Record 20 of Set 13 | grindavik\n",
      "Processing Record 21 of Set 13 | yellowknife\n",
      "Processing Record 22 of Set 13 | yambio\n",
      "Processing Record 23 of Set 13 | van\n",
      "Processing Record 24 of Set 13 | petropavlovsk-kamchatskiy\n",
      "Processing Record 25 of Set 13 | mar del plata\n",
      "Processing Record 26 of Set 13 | aktau\n",
      "Processing Record 27 of Set 13 | port alfred\n",
      "Processing Record 28 of Set 13 | beringovskiy\n",
      "Processing Record 29 of Set 13 | atuona\n",
      "Processing Record 30 of Set 13 | fortuna\n",
      "Processing Record 31 of Set 13 | illoqqortoormiut\n",
      "City not found. Skipping...\n",
      "Processing Record 32 of Set 13 | lakatoro\n",
      "Processing Record 33 of Set 13 | taolanaro\n",
      "City not found. Skipping...\n",
      "Processing Record 34 of Set 13 | bani walid\n",
      "Processing Record 35 of Set 13 | avarua\n",
      "Processing Record 36 of Set 13 | butaritari\n",
      "Processing Record 37 of Set 13 | aklavik\n",
      "Processing Record 38 of Set 13 | cerna hora\n",
      "Processing Record 39 of Set 13 | east london\n",
      "Processing Record 40 of Set 13 | puerto ayora\n",
      "Processing Record 41 of Set 13 | kapaa\n",
      "Processing Record 42 of Set 13 | severo-kurilsk\n",
      "Processing Record 43 of Set 13 | bluff\n",
      "Processing Record 44 of Set 13 | hervey bay\n",
      "Processing Record 45 of Set 13 | sosnovo-ozerskoye\n",
      "Processing Record 46 of Set 13 | sao filipe\n",
      "Processing Record 47 of Set 13 | montgomery\n",
      "Processing Record 48 of Set 13 | dingle\n",
      "Processing Record 49 of Set 13 | kodinsk\n",
      "Processing Record 50 of Set 13 | tlalchapa\n",
      "Processing Record 1 of Set 14 | saint-philippe\n",
      "Processing Record 2 of Set 14 | aksu\n",
      "Processing Record 3 of Set 14 | bredasdorp\n",
      "Processing Record 4 of Set 14 | saint george\n",
      "Processing Record 5 of Set 14 | pacific grove\n",
      "Processing Record 6 of Set 14 | griffith\n",
      "Processing Record 7 of Set 14 | palabuhanratu\n",
      "City not found. Skipping...\n",
      "Processing Record 8 of Set 14 | mataura\n",
      "Processing Record 9 of Set 14 | port elizabeth\n",
      "Processing Record 10 of Set 14 | clyde river\n",
      "Processing Record 11 of Set 14 | padang\n",
      "Processing Record 12 of Set 14 | georgetown\n",
      "Processing Record 13 of Set 14 | chokurdakh\n",
      "Processing Record 14 of Set 14 | tokawal\n",
      "City not found. Skipping...\n",
      "Processing Record 15 of Set 14 | dibaya\n",
      "City not found. Skipping...\n",
      "Processing Record 16 of Set 14 | mataram\n",
      "Processing Record 17 of Set 14 | jamestown\n",
      "Processing Record 18 of Set 14 | sentyabrskiy\n",
      "City not found. Skipping...\n",
      "Processing Record 19 of Set 14 | banff\n",
      "Processing Record 20 of Set 14 | severomuysk\n",
      "Processing Record 21 of Set 14 | torbay\n",
      "Processing Record 22 of Set 14 | airai\n",
      "Processing Record 23 of Set 14 | kaitangata\n",
      "Processing Record 24 of Set 14 | la rioja\n",
      "Processing Record 25 of Set 14 | lolua\n",
      "City not found. Skipping...\n",
      "Processing Record 26 of Set 14 | tiksi\n",
      "Processing Record 27 of Set 14 | yar-sale\n",
      "Processing Record 28 of Set 14 | marcona\n",
      "City not found. Skipping...\n",
      "Processing Record 29 of Set 14 | svetlogorsk\n",
      "Processing Record 30 of Set 14 | tasiilaq\n",
      "Processing Record 31 of Set 14 | kaohsiung\n",
      "Processing Record 32 of Set 14 | vila franca do campo\n",
      "Processing Record 33 of Set 14 | codrington\n",
      "Processing Record 34 of Set 14 | hermanus\n",
      "Processing Record 35 of Set 14 | karlskoga\n",
      "Processing Record 36 of Set 14 | laguna\n",
      "Processing Record 37 of Set 14 | isangel\n",
      "Processing Record 38 of Set 14 | kahului\n",
      "Processing Record 39 of Set 14 | lethbridge\n",
      "Processing Record 40 of Set 14 | fairbanks\n",
      "Processing Record 41 of Set 14 | nikolskoye\n",
      "Processing Record 42 of Set 14 | upernavik\n",
      "Processing Record 43 of Set 14 | husavik\n",
      "Processing Record 44 of Set 14 | faanui\n",
      "Processing Record 45 of Set 14 | vardo\n",
      "Processing Record 46 of Set 14 | cape town\n",
      "Processing Record 47 of Set 14 | katsuura\n",
      "Processing Record 48 of Set 14 | cayenne\n",
      "Processing Record 49 of Set 14 | ambilobe\n",
      "Processing Record 50 of Set 14 | barrow\n"
     ]
    }
   ],
   "source": [
    "# Loop through all the cities in the list.\n",
    "for i, city in enumerate(cities):\n",
    "\n",
    "    # Group cities in sets of 50 for logging purposes.\n",
    "    if (i % 50 == 0 and i >= 50):\n",
    "        set_count += 1\n",
    "        record_count = 1\n",
    "        time.sleep(60)\n",
    "\n",
    "    # Create endpoint URL with each city.\n",
    "    city_url = url + \"&q=\" + city.replace(\" \",\"+\")\n",
    "\n",
    "    # Log the URL, record, and set numbers and the city.\n",
    "    print(f\"Processing Record {record_count} of Set {set_count} | {city}\")\n",
    "    # Add 1 to the record count.\n",
    "    record_count += 1\n",
    "    # Run an API request for each of the cities.\n",
    "    try:\n",
    "        # Parse the JSON and retrieve data.\n",
    "        city_weather = requests.get(city_url).json()\n",
    "        # Parse out the needed data.\n",
    "        city_lat = city_weather[\"coord\"][\"lat\"]\n",
    "        city_lng = city_weather[\"coord\"][\"lon\"]\n",
    "        city_max_temp = city_weather[\"main\"][\"temp_max\"]\n",
    "        city_humidity = city_weather[\"main\"][\"humidity\"]\n",
    "        city_clouds = city_weather[\"clouds\"][\"all\"]\n",
    "        city_wind = city_weather[\"wind\"][\"speed\"]\n",
    "        city_country = city_weather[\"sys\"][\"country\"]\n",
    "        # Convert the date to ISO standard.\n",
    "        city_date = datetime.utcfromtimestamp(city_weather[\"dt\"]).strftime('%Y-%m-%d %H:%M:%S')\n",
    "        # Append the city information into city_data list.\n",
    "        city_data.append({\"City\": city.title(),\n",
    "                          \"Lat\": city_lat,\n",
    "                          \"Lng\": city_lng,\n",
    "                          \"Max Temp\": city_max_temp,\n",
    "                          \"Humidity\": city_humidity,\n",
    "                          \"Cloudiness\": city_clouds,\n",
    "                          \"Wind Speed\": city_wind,\n",
    "                          \"Country\": city_country,\n",
    "                          \"Date\": city_date})\n",
    "\n",
    "# If an error is experienced, skip the city.\n",
    "    except:\n",
    "        print(\"City not found. Skipping...\")\n",
    "        pass\n",
    "\n",
    "# Indicate that Data Loading is complete.\n",
    "print(\"-----------------------------\")\n",
    "print(\"Data Retrieval Complete      \")\n",
    "print(\"-----------------------------\")\n",
    "    "
   ]
  },
  {
   "cell_type": "code",
   "execution_count": null,
   "id": "2489ccd6",
   "metadata": {},
   "outputs": [],
   "source": [
    "# Convert the array of dictionaries to a Pandas DataFrame.\n",
    "city_data_df = pd.DataFrame(city_data)\n",
    "city_data_df.head(10)"
   ]
  },
  {
   "cell_type": "code",
   "execution_count": null,
   "id": "a5f3eb0d",
   "metadata": {},
   "outputs": [],
   "source": [
    "# Create the output file (CSV).\n",
    "output_data_file = \"weather_data/cities.csv\"\n",
    "# Export the City_Data into a CSV.\n",
    "city_data_df.to_csv(output_data_file, index_label=\"City_ID\")"
   ]
  },
  {
   "cell_type": "code",
   "execution_count": null,
   "id": "72790c97",
   "metadata": {},
   "outputs": [],
   "source": [
    "# Extract relevant fields from the DataFrame for plotting.\n",
    "lats = city_data_df[\"Lat\"]\n",
    "max_temps = city_data_df[\"Max Temp\"]\n",
    "humidity = city_data_df[\"Humidity\"]\n",
    "cloudiness = city_data_df[\"Cloudiness\"]\n",
    "wind_speed = city_data_df[\"Wind Speed\"]\n"
   ]
  },
  {
   "cell_type": "code",
   "execution_count": null,
   "id": "2021b6fa",
   "metadata": {},
   "outputs": [],
   "source": [
    "# Import time module\n",
    "import time\n",
    "\n",
    "# Build the scatter plot for latitude vs. max temperature.\n",
    "plt.scatter(lats,\n",
    "            max_temps,\n",
    "            edgecolor=\"black\", linewidths=1, marker=\"o\",\n",
    "            alpha=0.8, label=\"Cities\")\n",
    "\n",
    "# Incorporate the other graph properties.\n",
    "plt.title(f\"City Latitude vs. Max Temperature \"+ time.strftime(\"%x\"))\n",
    "plt.ylabel(\"Max Temperature (F)\")\n",
    "plt.xlabel(\"Latitude\")\n",
    "plt.grid(True)\n",
    "\n",
    "# Save the figure.\n",
    "plt.savefig(\"weather_data/Fig1.png\")\n",
    "\n",
    "# Show plot.\n",
    "plt.show()\n"
   ]
  },
  {
   "cell_type": "code",
   "execution_count": null,
   "id": "a53f89dc",
   "metadata": {},
   "outputs": [],
   "source": [
    "# Build the scatter plots for latitude vs. humidity.\n",
    "plt.scatter(lats,\n",
    "            humidity,\n",
    "            edgecolor=\"black\", linewidths=1, marker=\"o\",\n",
    "            alpha=0.8, label=\"Cities\")\n",
    "\n",
    "# Incorporate the other graph properties.\n",
    "plt.title(f\"City Latitude vs. Humidity \"+ time.strftime(\"%x\"))\n",
    "plt.ylabel(\"Humidity (%)\")\n",
    "plt.xlabel(\"Latitude\")\n",
    "plt.grid(True)\n",
    "# Save the figure.\n",
    "plt.savefig(\"weather_data/Fig2.png\")\n",
    "# Show plot.\n",
    "plt.show()"
   ]
  },
  {
   "cell_type": "code",
   "execution_count": null,
   "id": "1487b3df",
   "metadata": {},
   "outputs": [],
   "source": [
    "# Build the scatter plots for latitude vs. cloudiness.\n",
    "plt.scatter(lats,\n",
    "            cloudiness,\n",
    "            edgecolor=\"black\", linewidths=1, marker=\"o\",\n",
    "            alpha=0.8, label=\"Cities\")\n",
    "\n",
    "# Incorporate the other graph properties.\n",
    "plt.title(f\"City Latitude vs. Cloudiness (%) \"+ time.strftime(\"%x\"))\n",
    "plt.ylabel(\"Cloudiness (%)\")\n",
    "plt.xlabel(\"Latitude\")\n",
    "plt.grid(True)\n",
    "# Save the figure.\n",
    "plt.savefig(\"weather_data/Fig3.png\")\n",
    "# Show plot.\n",
    "plt.show()"
   ]
  },
  {
   "cell_type": "code",
   "execution_count": null,
   "id": "17813f6a",
   "metadata": {},
   "outputs": [],
   "source": [
    "# Build the scatter plots for latitude vs. wind speed.\n",
    "plt.scatter(lats,\n",
    "            wind_speed,\n",
    "            edgecolor=\"black\", linewidths=1, marker=\"o\",\n",
    "            alpha=0.8, label=\"Cities\")\n",
    "\n",
    "# Incorporate the other graph properties.\n",
    "plt.title(f\"City Latitude vs. Wind Speed \"+ time.strftime(\"%x\"))\n",
    "plt.ylabel(\"Wind Speed (mph)\")\n",
    "plt.xlabel(\"Latitude\")\n",
    "plt.grid(True)\n",
    "# Save the figure.\n",
    "plt.savefig(\"weather_data/Fig4.png\")\n",
    "# Show plot.\n",
    "plt.show()"
   ]
  },
  {
   "cell_type": "code",
   "execution_count": null,
   "id": "22ffd940",
   "metadata": {},
   "outputs": [],
   "source": []
  }
 ],
 "metadata": {
  "kernelspec": {
   "display_name": "Python 3 (ipykernel)",
   "language": "python",
   "name": "python3"
  },
  "language_info": {
   "codemirror_mode": {
    "name": "ipython",
    "version": 3
   },
   "file_extension": ".py",
   "mimetype": "text/x-python",
   "name": "python",
   "nbconvert_exporter": "python",
   "pygments_lexer": "ipython3",
   "version": "3.7.11"
  }
 },
 "nbformat": 4,
 "nbformat_minor": 5
}
